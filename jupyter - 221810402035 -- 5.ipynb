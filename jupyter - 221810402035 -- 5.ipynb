{
 "cells": [
  {
   "cell_type": "markdown",
   "metadata": {},
   "source": [
    "### tuples\n",
    "- t1 parenthesis() li square brackets[]\n",
    "- difference between list and tuples\n",
    "* list are mutable - can be changed/modified\n",
    "   used to access modify,add,delete data\n",
    "  * tuples are immutadle"
   ]
  },
  {
   "cell_type": "code",
   "execution_count": 12,
   "metadata": {},
   "outputs": [
    {
     "data": {
      "text/plain": [
       "tuple"
      ]
     },
     "execution_count": 12,
     "metadata": {},
     "output_type": "execute_result"
    }
   ],
   "source": [
    "t1=(1,2,3,4,5,6)\n",
    "t1\n",
    "type(t1)"
   ]
  },
  {
   "cell_type": "code",
   "execution_count": null,
   "metadata": {},
   "outputs": [],
   "source": []
  },
  {
   "cell_type": "markdown",
   "metadata": {},
   "source": [
    "## data structures\n",
    "\n",
    " * dictionaries"
   ]
  },
  {
   "cell_type": "markdown",
   "metadata": {},
   "source": [
    "### dictionaries\n",
    "- it works on the concept of set unique data\n",
    "- keys, values is the unique identifier for a value\n",
    "- each key is separted from its values eith colon(:)\n",
    "- each key and values is separated by comma(,)\n",
    "- dictionaries enclosed with curly braces({})"
   ]
  },
  {
   "cell_type": "code",
   "execution_count": 2,
   "metadata": {},
   "outputs": [
    {
     "name": "stdout",
     "output_type": "stream",
     "text": [
      "{'name': 'gitam', 'emaild': 'gitam@gmail.com', 'address': 'hyderabad'}\n"
     ]
    }
   ],
   "source": [
    "d1={\"name\":\"gitam\",\"emailid\":\"gitam@gmail.com\",\"address\":\"hyderabad\"}\n",
    "print(d1)"
   ]
  },
  {
   "cell_type": "code",
   "execution_count": 3,
   "metadata": {},
   "outputs": [
    {
     "data": {
      "text/plain": [
       "'gitam'"
      ]
     },
     "execution_count": 3,
     "metadata": {},
     "output_type": "execute_result"
    }
   ],
   "source": [
    "d1[\"name\"]"
   ]
  },
  {
   "cell_type": "code",
   "execution_count": 4,
   "metadata": {},
   "outputs": [],
   "source": [
    "d1['emailid'] = 'gitam-python@gmail.com'"
   ]
  },
  {
   "cell_type": "code",
   "execution_count": 6,
   "metadata": {},
   "outputs": [
    {
     "data": {
      "text/plain": [
       "'gitam-python@gmail.com'"
      ]
     },
     "execution_count": 6,
     "metadata": {},
     "output_type": "execute_result"
    }
   ],
   "source": [
    "d1['emailid']"
   ]
  },
  {
   "cell_type": "code",
   "execution_count": 7,
   "metadata": {},
   "outputs": [
    {
     "data": {
      "text/plain": [
       "{'name': 'gitam',\n",
       " 'emaild': 'gitam@gmail.com',\n",
       " 'address': 'hyderabad',\n",
       " 'emailid': 'gitam-python@gmail.com'}"
      ]
     },
     "execution_count": 7,
     "metadata": {},
     "output_type": "execute_result"
    }
   ],
   "source": [
    "d1"
   ]
  },
  {
   "cell_type": "code",
   "execution_count": 8,
   "metadata": {},
   "outputs": [
    {
     "data": {
      "text/plain": [
       "dict_keys(['name', 'emaild', 'address', 'emailid'])"
      ]
     },
     "execution_count": 8,
     "metadata": {},
     "output_type": "execute_result"
    }
   ],
   "source": [
    "d1.keys()"
   ]
  },
  {
   "cell_type": "code",
   "execution_count": 10,
   "metadata": {},
   "outputs": [
    {
     "data": {
      "text/plain": [
       "dict_items([('name', 'gitam'), ('emaild', 'gitam@gmail.com'), ('address', 'hyderabad'), ('emailid', 'gitam-python@gmail.com')])"
      ]
     },
     "execution_count": 10,
     "metadata": {},
     "output_type": "execute_result"
    }
   ],
   "source": [
    "d1.items()"
   ]
  },
  {
   "cell_type": "code",
   "execution_count": null,
   "metadata": {},
   "outputs": [],
   "source": []
  },
  {
   "cell_type": "code",
   "execution_count": 11,
   "metadata": {},
   "outputs": [
    {
     "data": {
      "text/plain": [
       "dict_values(['gitam', 'gitam@gmail.com', 'hyderabad', 'gitam-python@gmail.com'])"
      ]
     },
     "execution_count": 11,
     "metadata": {},
     "output_type": "execute_result"
    }
   ],
   "source": [
    "d1.values()"
   ]
  },
  {
   "cell_type": "markdown",
   "metadata": {},
   "source": [
    "### contact application\n",
    "  * add contact\n",
    "  * search the contact\n",
    "  * list all contacts\n",
    "       * name1 : phone1\n",
    "       * name2 : phone2\n",
    "  * modify the contact\n",
    "  * remove the contact\n",
    "  * import the contact"
   ]
  },
  {
   "cell_type": "code",
   "execution_count": 14,
   "metadata": {},
   "outputs": [
    {
     "name": "stdout",
     "output_type": "stream",
     "text": [
      "contact is details are added\n",
      "contact is details are added\n",
      "contact is details are added\n"
     ]
    }
   ],
   "source": [
    "# add contact \n",
    "contacts = { } # creating a dict object\n",
    "def addcontact(name,phone):\n",
    "    if name not in contacts:\n",
    "        contacts[name] = phone\n",
    "        print(\"contact is details are added\")\n",
    "    else:\n",
    "        print(\"contact details are already exists\")\n",
    "    return\n",
    "addcontact('anil','9284649476')\n",
    "addcontact('jyothi','6378599699')\n",
    "addcontact('kumar','7348766768')"
   ]
  },
  {
   "cell_type": "markdown",
   "metadata": {},
   "source": [
    "contacts"
   ]
  },
  {
   "cell_type": "code",
   "execution_count": 16,
   "metadata": {},
   "outputs": [
    {
     "name": "stdout",
     "output_type": "stream",
     "text": [
      "anil  :  9284649476\n",
      "jyothi  :  6378599699\n",
      "kumar  :  7348766768\n"
     ]
    }
   ],
   "source": [
    "# search for contact details\n",
    "def searchcontact(name):\n",
    "    if name in contacts:\n",
    "        print (name, \" : \",contacts[name])\n",
    "    else:\n",
    "        print (\"%s dose not exsit\" % name)\n",
    "    return\n",
    "searchcontact('anil')\n",
    "searchcontact('jyothi')\n",
    "searchcontact('kumar')"
   ]
  },
  {
   "cell_type": "markdown",
   "metadata": {},
   "source": [
    "## string functions\n",
    "\n",
    "* upper(-will converts the given string into upper case\n",
    "* lower(-will converts the given string into lowercase"
   ]
  },
  {
   "cell_type": "code",
   "execution_count": 1,
   "metadata": {},
   "outputs": [
    {
     "name": "stdout",
     "output_type": "stream",
     "text": [
      "GITAM\n",
      "gitam\n"
     ]
    }
   ],
   "source": [
    "s1 = 'gitam'\n",
    "print(s1.upper())\n",
    "print(s1.lower())"
   ]
  },
  {
   "cell_type": "markdown",
   "metadata": {},
   "source": [
    "# boolean function (true or false)\n",
    "​\n",
    "* islower()-true if the string is lowercase/false if the string not in lowercase\n",
    "* is upper()-true if the string is uppercase/false if the string not in uppercase\n",
    "* is titled()-true if the string follows title case/false\n",
    "* isalpha()-true if the string contains only alphabets/false\n",
    "* isnumeric()-true if the string contains only numerics/false\n",
    "* isspace()-true if the string contains only space/false\n"
   ]
  },
  {
   "cell_type": "code",
   "execution_count": 3,
   "metadata": {},
   "outputs": [
    {
     "name": "stdout",
     "output_type": "stream",
     "text": [
      "True\n",
      "False\n"
     ]
    }
   ],
   "source": [
    "s1 ='gitam'\n",
    "print(s1.islower())\n",
    "print(s1.isupper())"
   ]
  },
  {
   "cell_type": "code",
   "execution_count": 4,
   "metadata": {},
   "outputs": [
    {
     "name": "stdout",
     "output_type": "stream",
     "text": [
      "False\n",
      "False\n"
     ]
    }
   ],
   "source": [
    "s2=\"python programming\"\n",
    "s3=\"python programming\"\n",
    "print(s2.istitle())\n",
    "print(s3.istitle())"
   ]
  },
  {
   "cell_type": "code",
   "execution_count": 5,
   "metadata": {},
   "outputs": [
    {
     "name": "stdout",
     "output_type": "stream",
     "text": [
      "False\n",
      "True\n"
     ]
    }
   ],
   "source": [
    "s2=\"application1889\"\n",
    "s3='pythonprogramming'\n",
    "print(s2.isalpha())\n",
    "print(s3.isalpha())"
   ]
  },
  {
   "cell_type": "code",
   "execution_count": 6,
   "metadata": {},
   "outputs": [
    {
     "name": "stdout",
     "output_type": "stream",
     "text": [
      "True\n",
      "False\n"
     ]
    }
   ],
   "source": [
    "s1=\"1234\"\n",
    "s2=\"Application1234\"\n",
    "print(s1.isnumeric())\n",
    "print(s2.isnumeric())"
   ]
  },
  {
   "cell_type": "code",
   "execution_count": 7,
   "metadata": {},
   "outputs": [
    {
     "name": "stdout",
     "output_type": "stream",
     "text": [
      "True\n",
      "False\n"
     ]
    }
   ],
   "source": [
    "s1=\" \"\n",
    "s2=\"py th on\"\n",
    "print(s1.isspace())\n",
    "print(s2.isspace())"
   ]
  },
  {
   "cell_type": "markdown",
   "metadata": {},
   "source": [
    "# string methods\n",
    "\n",
    "* 1.join()-method will concatintes the two strings\n",
    "* 2.split()-split() return the a list of strings separated by whitespace(no parameters given)\n",
    "* 3.replace()-\\\n"
   ]
  },
  {
   "cell_type": "code",
   "execution_count": 8,
   "metadata": {},
   "outputs": [
    {
     "name": "stdout",
     "output_type": "stream",
     "text": [
      "p y t h o n\n"
     ]
    }
   ],
   "source": [
    "s1='python'\n",
    "print(\" \".join(s1))"
   ]
  },
  {
   "cell_type": "code",
   "execution_count": 9,
   "metadata": {},
   "outputs": [
    {
     "name": "stdout",
     "output_type": "stream",
     "text": [
      "p y t h o n   p r o g r a m m i n g   e a s y   t o   l e a r n\n"
     ]
    }
   ],
   "source": [
    "s2=\"python programming easy to learn\"\n",
    "print(\" \".join(s2))"
   ]
  },
  {
   "cell_type": "code",
   "execution_count": 10,
   "metadata": {},
   "outputs": [
    {
     "name": "stdout",
     "output_type": "stream",
     "text": [
      "p,y,t,h,o,n, ,p,r,o,g,r,a,m,m,i,n,g, ,e,a,s,y, ,t,o, ,l,e,a,r,n\n"
     ]
    }
   ],
   "source": [
    "s2 = \"python programming easy to learn\"\n",
    "print(\",\".join(s2))"
   ]
  },
  {
   "cell_type": "code",
   "execution_count": 11,
   "metadata": {},
   "outputs": [
    {
     "name": "stdout",
     "output_type": "stream",
     "text": [
      "python,programming,learn\n"
     ]
    }
   ],
   "source": [
    "li=['python','programming','learn']\n",
    "print(\",\".join(li))"
   ]
  },
  {
   "cell_type": "code",
   "execution_count": 12,
   "metadata": {},
   "outputs": [
    {
     "name": "stdout",
     "output_type": "stream",
     "text": [
      "['python', 'programming', 'easy', 'to', 'learn']\n"
     ]
    }
   ],
   "source": [
    "s2=\"python programming easy to learn\"\n",
    "print(s2.split())"
   ]
  },
  {
   "cell_type": "code",
   "execution_count": 13,
   "metadata": {},
   "outputs": [
    {
     "name": "stdout",
     "output_type": "stream",
     "text": [
      "['python progr', 'mming e', 'sy to le', 'rn']\n"
     ]
    }
   ],
   "source": [
    "s2=\"python programming easy to learn\"\n",
    "print(s2.split('a'))"
   ]
  },
  {
   "cell_type": "code",
   "execution_count": 14,
   "metadata": {},
   "outputs": [
    {
     "name": "stdout",
     "output_type": "stream",
     "text": [
      "['python', 'programming', 'easy', 'to', 'learn']\n",
      "5\n"
     ]
    }
   ],
   "source": [
    "s2=\"python programming easy to learn\"\n",
    "li=s2.split()#split the string -- list object\n",
    "print(li)\n",
    "print(len(li))"
   ]
  },
  {
   "cell_type": "code",
   "execution_count": 15,
   "metadata": {},
   "outputs": [
    {
     "name": "stdout",
     "output_type": "stream",
     "text": [
      "['p', 'y', 't', 'h', 'o', 'n', ' ', 'p', 'r', 'o', 'g', 'r', 'a', 'm', 'm', 'i', 'n', 'g', ' ', 'e', 'a', 's', 'y', ' ', 't', 'o', ' ', 'l', 'e', 'a', 'r', 'n']\n"
     ]
    }
   ],
   "source": [
    "s2=\"python programming easy to learn\"\n",
    "li = list(s2)\n",
    "print(li)"
   ]
  },
  {
   "cell_type": "code",
   "execution_count": 16,
   "metadata": {},
   "outputs": [
    {
     "name": "stdout",
     "output_type": "stream",
     "text": [
      "python proapplicationmming easy to learn\n"
     ]
    }
   ],
   "source": [
    "s2 =\"python programming easy to learn\"\n",
    "print(s2.replace(\"gra\",\"application\"))"
   ]
  },
  {
   "cell_type": "markdown",
   "metadata": {},
   "source": [
    "## packages and modules\n",
    "\n",
    "### PACKAGES:\n",
    "      - a collection of modules (single python file.py)and sub package\n",
    "      \n",
    "### MODULES:\n",
    "\n",
    "       - a single python file containing set functions\n",
    "       \n",
    "#### packages-->subpackages-->modules-->functions-->statements"
   ]
  },
  {
   "cell_type": "code",
   "execution_count": 1,
   "metadata": {},
   "outputs": [
    {
     "data": {
      "text/plain": [
       "123"
      ]
     },
     "execution_count": 1,
     "metadata": {},
     "output_type": "execute_result"
    }
   ],
   "source": [
    "# import the externals packages to python file\n",
    "import math\n",
    "math.floor(123.45)"
   ]
  },
  {
   "cell_type": "code",
   "execution_count": 3,
   "metadata": {},
   "outputs": [
    {
     "data": {
      "text/plain": [
       "120"
      ]
     },
     "execution_count": 3,
     "metadata": {},
     "output_type": "execute_result"
    }
   ],
   "source": [
    "from math import factorial as fact\n",
    "fact(5)"
   ]
  },
  {
   "cell_type": "code",
   "execution_count": 3,
   "metadata": {},
   "outputs": [
    {
     "data": {
      "text/plain": [
       "1"
      ]
     },
     "execution_count": 3,
     "metadata": {},
     "output_type": "execute_result"
    }
   ],
   "source": [
    "from math import gcd as gcd\n",
    "gcd(1,2)"
   ]
  },
  {
   "cell_type": "code",
   "execution_count": null,
   "metadata": {},
   "outputs": [],
   "source": [
    " "
   ]
  }
 ],
 "metadata": {
  "kernelspec": {
   "display_name": "Python 3",
   "language": "python",
   "name": "python3"
  },
  "language_info": {
   "codemirror_mode": {
    "name": "ipython",
    "version": 3
   },
   "file_extension": ".py",
   "mimetype": "text/x-python",
   "name": "python",
   "nbconvert_exporter": "python",
   "pygments_lexer": "ipython3",
   "version": "3.7.3"
  }
 },
 "nbformat": 4,
 "nbformat_minor": 2
}
